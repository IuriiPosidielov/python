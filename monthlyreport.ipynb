{
  "nbformat": 4,
  "nbformat_minor": 0,
  "metadata": {
    "colab": {
      "provenance": [],
      "authorship_tag": "ABX9TyOsCpT/yyYZzUt+8EWjYWzI",
      "include_colab_link": true
    },
    "kernelspec": {
      "name": "python3",
      "display_name": "Python 3"
    },
    "language_info": {
      "name": "python"
    }
  },
  "cells": [
    {
      "cell_type": "markdown",
      "metadata": {
        "id": "view-in-github",
        "colab_type": "text"
      },
      "source": [
        "<a href=\"https://colab.research.google.com/github/IuriiPosidielov/python/blob/main/monthlyreport.ipynb\" target=\"_parent\"><img src=\"https://colab.research.google.com/assets/colab-badge.svg\" alt=\"Open In Colab\"/></a>"
      ]
    },
    {
      "cell_type": "code",
      "execution_count": 2,
      "metadata": {
        "colab": {
          "base_uri": "https://localhost:8080/",
          "height": 805
        },
        "id": "s45KflmJfKEK",
        "outputId": "f69eee7a-7682-425f-cf86-b6e7a212a92c"
      },
      "outputs": [
        {
          "output_type": "execute_result",
          "data": {
            "text/plain": [
              "0    2024-01-01\n",
              "1    2024-01-02\n",
              "2    2024-01-03\n",
              "3    2024-01-04\n",
              "4    2024-01-05\n",
              "5    2024-01-08\n",
              "6    2024-01-09\n",
              "7    2024-01-10\n",
              "8    2024-01-11\n",
              "9    2024-01-12\n",
              "10   2024-01-15\n",
              "11   2024-01-16\n",
              "12   2024-01-17\n",
              "13   2024-01-18\n",
              "14   2024-01-19\n",
              "15   2024-01-22\n",
              "16   2024-01-23\n",
              "17   2024-01-24\n",
              "18   2024-01-25\n",
              "19   2024-01-26\n",
              "20   2024-01-29\n",
              "21   2024-01-30\n",
              "22   2024-01-31\n",
              "dtype: datetime64[ns]"
            ],
            "text/html": [
              "<div>\n",
              "<style scoped>\n",
              "    .dataframe tbody tr th:only-of-type {\n",
              "        vertical-align: middle;\n",
              "    }\n",
              "\n",
              "    .dataframe tbody tr th {\n",
              "        vertical-align: top;\n",
              "    }\n",
              "\n",
              "    .dataframe thead th {\n",
              "        text-align: right;\n",
              "    }\n",
              "</style>\n",
              "<table border=\"1\" class=\"dataframe\">\n",
              "  <thead>\n",
              "    <tr style=\"text-align: right;\">\n",
              "      <th></th>\n",
              "      <th>0</th>\n",
              "    </tr>\n",
              "  </thead>\n",
              "  <tbody>\n",
              "    <tr>\n",
              "      <th>0</th>\n",
              "      <td>2024-01-01</td>\n",
              "    </tr>\n",
              "    <tr>\n",
              "      <th>1</th>\n",
              "      <td>2024-01-02</td>\n",
              "    </tr>\n",
              "    <tr>\n",
              "      <th>2</th>\n",
              "      <td>2024-01-03</td>\n",
              "    </tr>\n",
              "    <tr>\n",
              "      <th>3</th>\n",
              "      <td>2024-01-04</td>\n",
              "    </tr>\n",
              "    <tr>\n",
              "      <th>4</th>\n",
              "      <td>2024-01-05</td>\n",
              "    </tr>\n",
              "    <tr>\n",
              "      <th>5</th>\n",
              "      <td>2024-01-08</td>\n",
              "    </tr>\n",
              "    <tr>\n",
              "      <th>6</th>\n",
              "      <td>2024-01-09</td>\n",
              "    </tr>\n",
              "    <tr>\n",
              "      <th>7</th>\n",
              "      <td>2024-01-10</td>\n",
              "    </tr>\n",
              "    <tr>\n",
              "      <th>8</th>\n",
              "      <td>2024-01-11</td>\n",
              "    </tr>\n",
              "    <tr>\n",
              "      <th>9</th>\n",
              "      <td>2024-01-12</td>\n",
              "    </tr>\n",
              "    <tr>\n",
              "      <th>10</th>\n",
              "      <td>2024-01-15</td>\n",
              "    </tr>\n",
              "    <tr>\n",
              "      <th>11</th>\n",
              "      <td>2024-01-16</td>\n",
              "    </tr>\n",
              "    <tr>\n",
              "      <th>12</th>\n",
              "      <td>2024-01-17</td>\n",
              "    </tr>\n",
              "    <tr>\n",
              "      <th>13</th>\n",
              "      <td>2024-01-18</td>\n",
              "    </tr>\n",
              "    <tr>\n",
              "      <th>14</th>\n",
              "      <td>2024-01-19</td>\n",
              "    </tr>\n",
              "    <tr>\n",
              "      <th>15</th>\n",
              "      <td>2024-01-22</td>\n",
              "    </tr>\n",
              "    <tr>\n",
              "      <th>16</th>\n",
              "      <td>2024-01-23</td>\n",
              "    </tr>\n",
              "    <tr>\n",
              "      <th>17</th>\n",
              "      <td>2024-01-24</td>\n",
              "    </tr>\n",
              "    <tr>\n",
              "      <th>18</th>\n",
              "      <td>2024-01-25</td>\n",
              "    </tr>\n",
              "    <tr>\n",
              "      <th>19</th>\n",
              "      <td>2024-01-26</td>\n",
              "    </tr>\n",
              "    <tr>\n",
              "      <th>20</th>\n",
              "      <td>2024-01-29</td>\n",
              "    </tr>\n",
              "    <tr>\n",
              "      <th>21</th>\n",
              "      <td>2024-01-30</td>\n",
              "    </tr>\n",
              "    <tr>\n",
              "      <th>22</th>\n",
              "      <td>2024-01-31</td>\n",
              "    </tr>\n",
              "  </tbody>\n",
              "</table>\n",
              "</div><br><label><b>dtype:</b> datetime64[ns]</label>"
            ]
          },
          "metadata": {},
          "execution_count": 2
        }
      ],
      "source": [
        "import csv\n",
        "from datetime import datetime, timedelta\n",
        "import pandas as pd\n",
        "\n",
        "def get_working_dates_of_selected_month(year, month):\n",
        "    # Calculate the first day of the selected month\n",
        "    first_day_of_month = datetime(year, month, 1)\n",
        "\n",
        "    # Calculate the last day of the selected month\n",
        "    last_day_of_month = (first_day_of_month + timedelta(days=32)).replace(day=1) - timedelta(days=1)\n",
        "\n",
        "    # Generate all working dates of the selected month (excluding weekends)\n",
        "    working_dates = [first_day_of_month + timedelta(days=x) for x in range((last_day_of_month - first_day_of_month).days + 1) if (first_day_of_month + timedelta(days=x)).weekday() < 5]\n",
        "\n",
        "    return working_dates\n",
        "\n",
        "def save_working_dates_to_csv(working_dates, csv_filename='monthlyreport.csv'):\n",
        "    # Specify the CSV file header\n",
        "    header = ['Date','Description']\n",
        "\n",
        "    # Write working dates to CSV\n",
        "    with open(csv_filename, mode='w', newline='') as csv_file:\n",
        "        writer = csv.writer(csv_file)\n",
        "        writer.writerow(header)\n",
        "        for working_date in working_dates:\n",
        "            writer.writerow([working_date.strftime('%d-%m-%Y'),'working'])\n",
        "\n",
        "# Input the desired month and year\n",
        "selected_year = 2025\n",
        "selected_month = 4\n",
        "\n",
        "# Get all working dates of the selected month\n",
        "all_working_dates_of_selected_month = get_working_dates_of_selected_month(selected_year, selected_month)\n",
        "\n",
        "pd.Series(all_working_dates_of_selected_month)\n",
        "# Save working dates to CSV\n",
        "#save_working_dates_to_csv(all_working_dates_of_selected_month)\n",
        "\n",
        "\n",
        "#for working_date in all_working_dates_of_selected_month:\n",
        "#  print(working_date.strftime('%Y-%m-%d'))\n"
      ]
    },
    {
      "cell_type": "markdown",
      "source": [
        "# Новый раздел"
      ],
      "metadata": {
        "id": "5eGJdzEjhPba"
      }
    },
    {
      "cell_type": "code",
      "source": [],
      "metadata": {
        "id": "FPdy5eMkflJk"
      },
      "execution_count": null,
      "outputs": []
    },
    {
      "cell_type": "code",
      "source": [],
      "metadata": {
        "id": "Sg3PX6gXflFJ"
      },
      "execution_count": null,
      "outputs": []
    },
    {
      "cell_type": "code",
      "source": [],
      "metadata": {
        "id": "Mapc7_twfMVm"
      },
      "execution_count": null,
      "outputs": []
    }
  ]
}