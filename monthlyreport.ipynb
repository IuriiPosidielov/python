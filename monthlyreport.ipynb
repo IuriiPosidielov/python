{
  "nbformat": 4,
  "nbformat_minor": 0,
  "metadata": {
    "colab": {
      "provenance": [],
      "authorship_tag": "ABX9TyNjoLsqJpRibn435fnQXp2O",
      "include_colab_link": true
    },
    "kernelspec": {
      "name": "python3",
      "display_name": "Python 3"
    },
    "language_info": {
      "name": "python"
    }
  },
  "cells": [
    {
      "cell_type": "markdown",
      "metadata": {
        "id": "view-in-github",
        "colab_type": "text"
      },
      "source": [
        "<a href=\"https://colab.research.google.com/github/IuriiPosidielov/python/blob/main/monthlyreport.ipynb\" target=\"_parent\"><img src=\"https://colab.research.google.com/assets/colab-badge.svg\" alt=\"Open In Colab\"/></a>"
      ]
    },
    {
      "cell_type": "code",
      "execution_count": 9,
      "metadata": {
        "colab": {
          "base_uri": "https://localhost:8080/"
        },
        "id": "s45KflmJfKEK",
        "outputId": "7ba5ea52-5d0b-4e0a-ce16-e56c1384eb1e"
      },
      "outputs": [
        {
          "output_type": "stream",
          "name": "stdout",
          "text": [
            "2024-01-01\n",
            "2024-01-02\n",
            "2024-01-03\n",
            "2024-01-04\n",
            "2024-01-05\n",
            "2024-01-08\n",
            "2024-01-09\n",
            "2024-01-10\n",
            "2024-01-11\n",
            "2024-01-12\n",
            "2024-01-15\n",
            "2024-01-16\n",
            "2024-01-17\n",
            "2024-01-18\n",
            "2024-01-19\n",
            "2024-01-22\n",
            "2024-01-23\n",
            "2024-01-24\n",
            "2024-01-25\n",
            "2024-01-26\n",
            "2024-01-29\n",
            "2024-01-30\n",
            "2024-01-31\n"
          ]
        }
      ],
      "source": [
        "import csv\n",
        "from datetime import datetime, timedelta\n",
        "\n",
        "def get_working_dates_of_selected_month(year, month):\n",
        "    # Calculate the first day of the selected month\n",
        "    first_day_of_month = datetime(year, month, 1)\n",
        "\n",
        "    # Calculate the last day of the selected month\n",
        "    last_day_of_month = (first_day_of_month + timedelta(days=32)).replace(day=1) - timedelta(days=1)\n",
        "\n",
        "    # Generate all working dates of the selected month (excluding weekends)\n",
        "    working_dates = [first_day_of_month + timedelta(days=x) for x in range((last_day_of_month - first_day_of_month).days + 1) if (first_day_of_month + timedelta(days=x)).weekday() < 5]\n",
        "\n",
        "    return working_dates\n",
        "\n",
        "def save_working_dates_to_csv(working_dates, csv_filename='monthlyreport.csv'):\n",
        "    # Specify the CSV file header\n",
        "    header = ['Date','Description']\n",
        "\n",
        "    # Write working dates to CSV\n",
        "    with open(csv_filename, mode='w', newline='') as csv_file:\n",
        "        writer = csv.writer(csv_file)\n",
        "        writer.writerow(header)\n",
        "        for working_date in working_dates:\n",
        "            writer.writerow([working_date.strftime('%d-%m-%Y'),'working'])\n",
        "\n",
        "# Input the desired month and year\n",
        "selected_year = 2024\n",
        "selected_month = 1\n",
        "\n",
        "# Get all working dates of the selected month\n",
        "all_working_dates_of_selected_month = get_working_dates_of_selected_month(selected_year, selected_month)\n",
        "\n",
        "# Save working dates to CSV\n",
        "save_working_dates_to_csv(all_working_dates_of_selected_month)\n",
        "\n",
        "for working_date in all_working_dates_of_selected_month:\n",
        "  print(working_date.strftime('%Y-%m-%d'))\n"
      ]
    },
    {
      "cell_type": "markdown",
      "source": [
        "# Новый раздел"
      ],
      "metadata": {
        "id": "5eGJdzEjhPba"
      }
    },
    {
      "cell_type": "code",
      "source": [],
      "metadata": {
        "id": "FPdy5eMkflJk"
      },
      "execution_count": null,
      "outputs": []
    },
    {
      "cell_type": "code",
      "source": [],
      "metadata": {
        "id": "Sg3PX6gXflFJ"
      },
      "execution_count": null,
      "outputs": []
    },
    {
      "cell_type": "code",
      "source": [],
      "metadata": {
        "id": "Mapc7_twfMVm"
      },
      "execution_count": 2,
      "outputs": []
    }
  ]
}